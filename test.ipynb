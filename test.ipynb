{
 "cells": [
  {
   "cell_type": "code",
   "execution_count": null,
   "metadata": {
    "collapsed": true
   },
   "outputs": [],
   "source": [
    "from __future__ import absolute_import\n",
    "from __future__ import division\n",
    "from __future__ import print_function\n",
    "import pandas as pd\n",
    "import argparse\n",
    "import sys,os\n",
    "import tensorflow as tf\n",
    "from PIL import Image\n",
    "from tqdm import tqdm"
   ]
  },
  {
   "cell_type": "code",
   "execution_count": null,
   "metadata": {
    "collapsed": true
   },
   "outputs": [],
   "source": [
    "t=tqdm(pd.read_csv('test.csv').values)\n",
    "test=[]\n",
    "i=0\n",
    "for tt in t:\n",
    "    test.append(tt[0])\n",
    "    i+=1"
   ]
  },
  {
   "cell_type": "code",
   "execution_count": null,
   "metadata": {
    "collapsed": true
   },
   "outputs": [],
   "source": [
    "test"
   ]
  },
  {
   "cell_type": "code",
   "execution_count": null,
   "metadata": {
    "collapsed": true
   },
   "outputs": [],
   "source": [
    "def load_image(filename):\n",
    "    #Read in the image_data to be classified.\"\"\"\n",
    "    return tf.gfile.FastGFile(filename, 'rb').read()\n",
    "\n",
    "def load_labels(filename):\n",
    "    #Read in labels, one label per line.\"\"\"\n",
    "    return [line.rstrip() for line in tf.gfile.GFile(filename)]\n",
    "\n",
    "def load_graph(filename):\n",
    "    #Unpersists graph from file as default graph.\"\"\"\n",
    "    with tf.gfile.FastGFile(filename, 'rb') as f:\n",
    "        graph_def = tf.GraphDef()\n",
    "        graph_def.ParseFromString(f.read())\n",
    "        tf.import_graph_def(graph_def, name='')"
   ]
  },
  {
   "cell_type": "code",
   "execution_count": null,
   "metadata": {
    "collapsed": true
   },
   "outputs": [],
   "source": [
    "def run_graph(src, dest, labels, input_layer_name, output_layer_name, num_top_predictions):\n",
    "    with tf.Session() as sess:\n",
    "        # Feed the image_data as input to the graph.\n",
    "        # predictions  will contain a two-dimensional array, where one\n",
    "        # dimension represents the input image count, and the other has\n",
    "        # predictions per class\n",
    "        i=0\n",
    "        #with open('submit.csv','w') as outfile:\n",
    "        for f in os.listdir(src):\n",
    "            im=Image.open(os.path.join(src,f))\n",
    "            img=im.convert('RGB')\n",
    "            img.save(os.path.join(dest,test[i]+'.jpg'))\n",
    "            image_data=load_image(os.path.join(dest,test[i]+'.jpg'))\n",
    "            softmax_tensor=sess.graph.get_tensor_by_name(output_layer_name)\n",
    "            predictions,=sess.run(softmax_tensor, {input_layer_name: image_data})\n",
    "            \n",
    "            # Sort to show labels in order of confidence             \n",
    "            top_k = predictions.argsort()[-num_top_predictions:][::-1]\n",
    "            for node_id in top_k:\n",
    "                predicted_label = labels[node_id]\n",
    "                score = predictions[node_id]\n",
    "                print(test[i]+',',predicted_label)\n",
    "                #outfile.write(test[i]+','+human_string+'\\n')\n",
    "            i+=1"
   ]
  },
  {
   "cell_type": "code",
   "execution_count": null,
   "metadata": {
    "collapsed": true,
    "scrolled": false
   },
   "outputs": [],
   "source": [
    "src=os.path.join('.','test_img')\n",
    "dest=os.path.join('.','test_img2')\n",
    "labels='C:/tmp/output_labels.txt'\n",
    "graph='C:/tmp/output_graph.pb'\n",
    "input_layer='DecodeJpeg/contents:0'\n",
    "output_layer='final_result:0'\n",
    "num_top_predictions=1\n",
    "labels = load_labels(labels)\n",
    "load_graph(graph)\n",
    "run_graph(src,dest,labels,input_layer,output_layer,num_top_predictions)"
   ]
  }
 ],
 "metadata": {
  "kernelspec": {
   "display_name": "Python 3",
   "language": "python",
   "name": "python3"
  },
  "language_info": {
   "codemirror_mode": {
    "name": "ipython",
    "version": 3
   },
   "file_extension": ".py",
   "mimetype": "text/x-python",
   "name": "python",
   "nbconvert_exporter": "python",
   "pygments_lexer": "ipython3",
   "version": "3.5.4"
  }
 },
 "nbformat": 4,
 "nbformat_minor": 2
}
